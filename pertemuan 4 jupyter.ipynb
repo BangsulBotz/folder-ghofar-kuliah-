{
 "cells": [
  {
   "cell_type": "markdown",
   "metadata": {},
   "source": [
    "kuntruksi if then"
   ]
  },
  {
   "cell_type": "code",
   "execution_count": 3,
   "metadata": {},
   "outputs": [
    {
     "name": "stdout",
     "output_type": "stream",
     "text": [
      "angka 27 merupakan bilangan ganjil\n"
     ]
    }
   ],
   "source": [
    "angka = int(input(\"masukkan angka = \"))\n",
    "\n",
    "if angka % 2 == 0 :\n",
    "    print (f\"angka {angka} merupakan bilangan genap\")\n",
    "\n",
    "else :\n",
    "    print (f\"angka {angka} merupakan bilangan ganjil\")"
   ]
  },
  {
   "cell_type": "markdown",
   "metadata": {},
   "source": [
    "kuntruksi 2 kasus\n"
   ]
  },
  {
   "cell_type": "code",
   "execution_count": 6,
   "metadata": {},
   "outputs": [
    {
     "name": "stdout",
     "output_type": "stream",
     "text": [
      "2024 bukan tahun kabisat\n"
     ]
    }
   ],
   "source": [
    "tahun = int(input(\"masukkan tahun : \"))\n",
    "\n",
    "if (tahun % 4 == 0 and tahun % 100 == 0) or (tahun % 400 == 0):\n",
    "    print (f\"{tahun} adalah tahun kabisat\")\n",
    "\n",
    "else :\n",
    "    print (f\"{tahun} bukan tahun kabisat\")"
   ]
  },
  {
   "cell_type": "markdown",
   "metadata": {},
   "source": [
    "kuntruksi elif`"
   ]
  },
  {
   "cell_type": "code",
   "execution_count": 14,
   "metadata": {},
   "outputs": [
    {
     "name": "stdout",
     "output_type": "stream",
     "text": [
      "100 / 10 =  10\n"
     ]
    }
   ],
   "source": [
    "angka1 = int(input(\"masukkan angka pertama \"))\n",
    "angka2 = int(input(\"masukkan angka kedua = \"))\n",
    "operasi = input(\"masukkan operasi : (+ , - , * , / )\")\n",
    "\n",
    "if operasi == \"+\" :\n",
    "    hasil = angka1 + angka2\n",
    "    print (f\"{angka1} + {angka2} = {hasil}\")\n",
    "\n",
    "elif operasi == \"-\" :\n",
    "    hasil = angka1 - angka2\n",
    "    print (f\"{angka1} - {angka2} =  {hasil}\")\n",
    "\n",
    "elif operasi == \"*\" :\n",
    "    hasil = angka1 * angka2\n",
    "    print (f\"{angka1} * {angka2} =  {hasil}\")\n",
    "\n",
    "elif operasi == \"/\" :\n",
    "    hasil = angka1 / angka2\n",
    "    print (f\"{angka1} / {angka2} =  {hasil:.1f}\")\n",
    "\n",
    "else :\n",
    "    print (\"anda memasukkan operasi yang salah\")"
   ]
  }
 ],
 "metadata": {
  "kernelspec": {
   "display_name": "Python 3",
   "language": "python",
   "name": "python3"
  },
  "language_info": {
   "codemirror_mode": {
    "name": "ipython",
    "version": 3
   },
   "file_extension": ".py",
   "mimetype": "text/x-python",
   "name": "python",
   "nbconvert_exporter": "python",
   "pygments_lexer": "ipython3",
   "version": "3.12.2"
  }
 },
 "nbformat": 4,
 "nbformat_minor": 2
}
