{
 "cells": [
  {
   "cell_type": "code",
   "execution_count": 4,
   "metadata": {},
   "outputs": [
    {
     "name": "stdout",
     "output_type": "stream",
     "text": [
      "nama anda adalah : ghoar\n",
      "umur anda adalah :10000\n",
      "ipk anda adalah  : 100.0\n"
     ]
    }
   ],
   "source": [
    "#pada string\n",
    "nama = input (\"masukkan nama anda : \")\n",
    "\n",
    "#contoh integer\n",
    "umur = int (input(\"masukkan umur anda : \"))\n",
    "\n",
    "#contoh float \n",
    "ipk = float (input (\"masukkan ipk anda : \"))\n",
    "\n",
    "print (f\"nama anda adalah : {nama}\\numur anda adalah :{umur}\\nipk anda adalah  : {ipk}\")\n",
    "\n"
   ]
  },
  {
   "cell_type": "code",
   "execution_count": 7,
   "metadata": {},
   "outputs": [
    {
     "name": "stdout",
     "output_type": "stream",
     "text": [
      "bilangan pertama: 100\n",
      "bilangan kedua : 10\n"
     ]
    }
   ],
   "source": [
    "bil = input (\"masukkan bilangan bulat yang di pisahkan oleh spasi: \")\n",
    "#membagi variabel bil menjadi variabel bil1 dan bil2\n",
    "bil1,bil2 = map(int,bil.split())\n",
    "print (\"bilangan pertama:\",bil1)\n",
    "print (\"bilangan kedua :\",bil2)"
   ]
  },
  {
   "cell_type": "code",
   "execution_count": 4,
   "metadata": {},
   "outputs": [
    {
     "name": "stdout",
     "output_type": "stream",
     "text": [
      "hallo ghofar umur anda : 100 ipk anda : 9.0\n",
      "hallo ghofar umur anda : 100 ipk anda : 9.0\n",
      "hallo ghofar umur anda : 100 ipk anda : 9.000000\n",
      "hallo ghofar umur anda : 100 ipk anda : 9.0\n"
     ]
    }
   ],
   "source": [
    "#pada string\n",
    "nama = input (\"masukkan nama anda : \")\n",
    "#contoh integer\n",
    "umur = int (input(\"masukkan umur anda : \"))\n",
    "#contoh float \n",
    "ipk = float (input (\"masukkan ipk anda : \"))\n",
    "\n",
    "print (\"hallo\", nama, \"umur anda :\", umur ,\"ipk anda :\",ipk)\n",
    "print (\"hallo \"+ nama+ \" umur anda :\", umur ,\"ipk anda :\",ipk)\n",
    "print (\"hallo %s umur anda : %i ipk anda : %1f\" % (nama,umur,ipk))\n",
    "print (f\"hallo {nama} umur anda : {umur} ipk anda : {ipk}\")\n",
    "\n"
   ]
  }
 ],
 "metadata": {
  "kernelspec": {
   "display_name": "Python 3",
   "language": "python",
   "name": "python3"
  },
  "language_info": {
   "codemirror_mode": {
    "name": "ipython",
    "version": 3
   },
   "file_extension": ".py",
   "mimetype": "text/x-python",
   "name": "python",
   "nbconvert_exporter": "python",
   "pygments_lexer": "ipython3",
   "version": "3.12.2"
  }
 },
 "nbformat": 4,
 "nbformat_minor": 2
}
