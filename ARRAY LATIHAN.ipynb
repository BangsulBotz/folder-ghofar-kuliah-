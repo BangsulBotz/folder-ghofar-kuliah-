{
 "cells": [
  {
   "cell_type": "markdown",
   "metadata": {},
   "source": [
    "PROGRAM KASIR"
   ]
  },
  {
   "cell_type": "code",
   "execution_count": 2,
   "metadata": {},
   "outputs": [
    {
     "name": "stdout",
     "output_type": "stream",
     "text": [
      "---------------------------------------------------------------------------\n",
      "|                              TAMPILAN MENU                              |\n",
      "---------------------------------------------------------------------------\n",
      "|  KODE |      NAMA BARANG      |     MEREK BARANG      |       HARGA     |\n",
      "---------------------------------------------------------------------------\n",
      "| 1 \t| \tbaju \t\t|\t(supreme)   \t|    Rp.900000    |\n",
      "| 2 \t| \tcelana \t\t|\t(mischief)   \t|    Rp.650000    |\n",
      "| 3 \t| \ttopi \t\t|\t(volcom)   \t|    Rp.500000    |\n",
      "--------------------------------------------------------------------------- \n",
      "\n",
      "\n",
      "TOTAL HARGA - DISKON + PAJAK 11 %\n",
      "TOTAL YANG HARUS DI BAYAR ADALAH : Rp. 555000\n"
     ]
    }
   ],
   "source": [
    "menu = {\n",
    "    1: {\"nama\":\"baju\", \"merek\":\"supreme\", \"harga\": 900000},\n",
    "    2: {\"nama\":\"celana\", \"merek\":\"mischief\", \"harga\": 650000},\n",
    "    3: {\"nama\":\"topi\", \"merek\":\"volcom\", \"harga\": 500000}\n",
    "}\n",
    "\n",
    "print (\"-\" * 75)\n",
    "judul = \"TAMPILAN MENU\".center(71,\" \")\n",
    "print (\"|\",judul,\"|\")\n",
    "print (\"-\" * 75)\n",
    "print (\"|  KODE |      NAMA BARANG      |     MEREK BARANG      |       HARGA     |\")\n",
    "print (\"-\" * 75)\n",
    "for c, d in menu.items():\n",
    "        print(f\"| {c} \\t| \\t{d['nama']} \\t\\t|\\t({d['merek']})   \\t|    Rp.{d['harga']}    |\")\n",
    "print (\"-\" * 75, \"\\n\")\n",
    "\n",
    "def total_belanja(tampilan) :\n",
    "    jumlah = 0\n",
    "    for z in tampilan:\n",
    "        jumlah += menu[z] ['harga']\n",
    "    return jumlah\n",
    "\n",
    "def  total_final(jumlah):\n",
    "    if jumlah > 1500000 :\n",
    "        diskon = jumlah - 200000\n",
    "    else:\n",
    "       diskon = 0\n",
    "    pajak = (jumlah-diskon) * 0.11\n",
    "    return jumlah-diskon + pajak\n",
    "\n",
    "def main():\n",
    "    tampilan = []\n",
    "    while True :\n",
    "        kode = int(input(\"masukkan kode, ketik '0' jika tidak ada tambahan : \"))\n",
    "        if kode == 0 :\n",
    "            break\n",
    "        tampilan.append(kode)\n",
    "    jumlah = total_belanja(tampilan)\n",
    "    keseluruhan = total_final(jumlah)\n",
    "    print (\"\\nTOTAL HARGA - DISKON + PAJAK 11 %\")\n",
    "    print (f\"TOTAL YANG HARUS DI BAYAR ADALAH : Rp. {keseluruhan:.0f}\")\n",
    "\n",
    "main()\n"
   ]
  }
 ],
 "metadata": {
  "kernelspec": {
   "display_name": "Python 3",
   "language": "python",
   "name": "python3"
  },
  "language_info": {
   "codemirror_mode": {
    "name": "ipython",
    "version": 3
   },
   "file_extension": ".py",
   "mimetype": "text/x-python",
   "name": "python",
   "nbconvert_exporter": "python",
   "pygments_lexer": "ipython3",
   "version": "3.12.2"
  }
 },
 "nbformat": 4,
 "nbformat_minor": 2
}
